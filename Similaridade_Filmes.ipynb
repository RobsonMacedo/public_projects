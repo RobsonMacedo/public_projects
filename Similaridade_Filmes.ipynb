{
 "cells": [
  {
   "cell_type": "code",
   "execution_count": 137,
   "metadata": {},
   "outputs": [],
   "source": [
    "# Cálculo de similaridade para uma base de filmes\n",
    "\n",
    "avaliacoes = {'Ana': \n",
    "\t\t{'Freddy x Jason': 2.5, \n",
    "\t\t 'O Ultimato Bourne': 3.5,\n",
    "\t\t 'Star Trek': 3.0, \n",
    "\t\t 'Exterminador do Futuro': 3.5, \n",
    "\t\t 'Norbit': 2.5, \n",
    "\t\t 'Star Wars': 3.0},\n",
    "\t \n",
    "\t  'Marcos': \n",
    "\t\t{'Freddy x Jason': 3.0, \n",
    "\t\t 'O Ultimato Bourne': 3.5, \n",
    "\t\t 'Star Trek': 1.5, \n",
    "\t\t 'Exterminador do Futuro': 5.0, \n",
    "\t\t 'Star Wars': 3.0, \n",
    "\t\t 'Norbit': 3.5}, \n",
    "\n",
    "\t  'Pedro': \n",
    "\t    {'Freddy x Jason': 2.5, \n",
    "\t\t 'O Ultimato Bourne': 3.0,\n",
    "\t\t 'Exterminador do Futuro': 3.5, \n",
    "\t\t 'Star Wars': 4.0},\n",
    "\t\t\t \n",
    "\t  'Claudia': \n",
    "\t\t{'O Ultimato Bourne': 3.5, \n",
    "\t\t 'Star Trek': 3.0,\n",
    "\t\t 'Star Wars': 4.5, \n",
    "\t\t 'Exterminador do Futuro': 4.0, \n",
    "\t\t 'Norbit': 2.5},\n",
    "\t\t\t\t \n",
    "\t  'Adriano': \n",
    "\t\t{'Freddy x Jason': 3.0, \n",
    "\t\t 'O Ultimato Bourne': 4.0, \n",
    "\t\t 'Star Trek': 2.0, \n",
    "\t\t 'Exterminador do Futuro': 3.0, \n",
    "\t\t 'Star Wars': 3.0,\n",
    "\t\t 'Norbit': 2.0}, \n",
    "\n",
    "\t  'Janaina': \n",
    "\t     {'Freddy x Jason': 3.0, \n",
    "\t      'O Ultimato Bourne': 4.0,\n",
    "\t      'Star Wars': 3.0, \n",
    "\t      'Exterminador do Futuro': 5.0, \n",
    "\t      'Norbit': 3.5},\n",
    "\t\t\t  \n",
    "\t  'Leonardo': \n",
    "\t    {'O Ultimato Bourne':4.5,\n",
    "             'Norbit':1.0,\n",
    "\t     'Exterminador do Futuro':4.0}\n",
    "}\n"
   ]
  },
  {
   "cell_type": "code",
   "execution_count": 136,
   "metadata": {},
   "outputs": [],
   "source": [
    "## Encontrar produtos similares agora\n",
    "avaliacoesFilme = {'Freddy x Jason': \n",
    "\t\t{'Ana': 2.5, \n",
    "\t\t 'Marcos:': 3.0 ,\n",
    "\t\t 'Pedro': 2.5, \n",
    "\t\t 'Adriano': 3.0, \n",
    "\t\t 'Janaina': 3.0 },\n",
    "\t \n",
    "\t 'O Ultimato Bourne': \n",
    "\t\t{'Ana': 3.5, \n",
    "\t\t 'Marcos': 3.5,\n",
    "\t\t 'Pedro': 3.0, \n",
    "\t\t 'Claudia': 3.5, \n",
    "\t\t 'Adriano': 4.0, \n",
    "\t\t 'Janaina': 4.0,\n",
    "\t\t 'Leonardo': 4.5 },\n",
    "\t\t\t\t \n",
    "\t 'Star Trek': \n",
    "\t\t{'Ana': 3.0, \n",
    "\t\t 'Marcos:': 1.5,\n",
    "\t\t 'Claudia': 3.0, \n",
    "\t\t 'Adriano': 2.0 },\n",
    "\t\n",
    "\t 'Exterminador do Futuro': \n",
    "\t\t{'Ana': 3.5, \n",
    "\t\t 'Marcos:': 5.0 ,\n",
    "\t\t 'Pedro': 3.5, \n",
    "\t\t 'Claudia': 4.0, \n",
    "\t\t 'Adriano': 3.0, \n",
    "\t\t 'Janaina': 5.0,\n",
    "\t\t 'Leonardo': 4.0},\n",
    "\t\t\t\t \n",
    "\t 'Norbit': \n",
    "\t\t{'Ana': 2.5, \n",
    "\t\t 'Marcos:': 3.0 ,\n",
    "\t\t 'Claudia': 2.5, \n",
    "\t\t 'Adriano': 2.0, \n",
    "\t\t 'Janaina': 3.5,\n",
    "\t\t 'Leonardo': 1.0},\n",
    "\t\t\t\t \n",
    "\t 'Star Wars': \n",
    "\t\t{'Ana': 3.0, \n",
    "\t\t 'Marcos:': 3.5,\n",
    "\t\t 'Pedro': 4.0, \n",
    "\t\t 'Claudia': 4.5, \n",
    "\t\t 'Adriano': 3.0, \n",
    "\t\t 'Janaina': 3.0}\n",
    "}"
   ]
  },
  {
   "cell_type": "code",
   "execution_count": 138,
   "metadata": {},
   "outputs": [],
   "source": [
    "def euclidiana(base, usuario1, usuario2):\n",
    "    si = {}\n",
    "    for item in base[usuario1]:\n",
    "        if item in base[usuario2]:\n",
    "            si[item] = 1\n",
    "    if len(si) == 0:\n",
    "        return 0\n",
    "    soma = sum([pow(base[usuario1][item] - base[usuario2][item], 2)\n",
    "                for item in base[usuario1] if item in base[usuario2]])\n",
    "        \n",
    "    return(1/(1+sqrt(soma)))"
   ]
  },
  {
   "cell_type": "code",
   "execution_count": 140,
   "metadata": {},
   "outputs": [
    {
     "data": {
      "text/plain": [
       "0.3483314773547883"
      ]
     },
     "execution_count": 140,
     "metadata": {},
     "output_type": "execute_result"
    }
   ],
   "source": [
    "euclidiana(avaliacoes, 'Ana', 'Leonardo')"
   ]
  },
  {
   "cell_type": "code",
   "execution_count": 147,
   "metadata": {},
   "outputs": [
    {
     "data": {
      "text/plain": [
       "0.4721359549995794"
      ]
     },
     "execution_count": 147,
     "metadata": {},
     "output_type": "execute_result"
    }
   ],
   "source": [
    "euclidiana(avaliacoesFilme,'Freddy x Jason', 'Norbit')\n",
    "        "
   ]
  },
  {
   "cell_type": "code",
   "execution_count": 160,
   "metadata": {},
   "outputs": [],
   "source": [
    "def get_similares(base, usuario):\n",
    "    similaridade = [(euclidiana(base,usuario, outro), outro) for outro in base if usuario!=outro]\n",
    "    similaridade.sort()\n",
    "    similaridade.reverse()\n",
    "    return similaridade[0:30]"
   ]
  },
  {
   "cell_type": "code",
   "execution_count": 148,
   "metadata": {},
   "outputs": [
    {
     "data": {
      "text/plain": [
       "[(0.4721359549995794, 'Freddy x Jason'),\n",
       " (0.3761785115301142, 'Star Trek'),\n",
       " (0.29429805508554946, 'Star Wars'),\n",
       " (0.1886378647726465, 'O Ultimato Bourne'),\n",
       " (0.18464218557642828, 'Exterminador do Futuro')]"
      ]
     },
     "execution_count": 148,
     "metadata": {},
     "output_type": "execute_result"
    }
   ],
   "source": [
    "get_similares(avaliacoesFilme,'Norbit')"
   ]
  },
  {
   "cell_type": "code",
   "execution_count": 149,
   "metadata": {},
   "outputs": [
    {
     "data": {
      "text/plain": [
       "[(0.4, 'Adriano'),\n",
       " (0.38742588672279304, 'Pedro'),\n",
       " (0.3567891723253309, 'Claudia'),\n",
       " (0.3483314773547883, 'Ana'),\n",
       " (0.2674788903885893, 'Janaina'),\n",
       " (0.25824569976124334, 'Marcos')]"
      ]
     },
     "execution_count": 149,
     "metadata": {},
     "output_type": "execute_result"
    }
   ],
   "source": [
    "get_similares(avaliacoes,'Leonardo')"
   ]
  },
  {
   "cell_type": "code",
   "execution_count": 161,
   "metadata": {},
   "outputs": [],
   "source": [
    "def get_recomendacoes(base, usuario):\n",
    "    totais = {}\n",
    "    somaSimilaridade = {}\n",
    "    for outro in base:\n",
    "        if outro == usuario:\n",
    "            continue\n",
    "        similaridade = euclidiana(base, usuario, outro)\n",
    "        \n",
    "        if similaridade == 0:\n",
    "            continue\n",
    "        \n",
    "        for filmes in base[outro]:\n",
    "            if filmes not in base[usuario]:\n",
    "                totais.setdefault(filmes, 0)\n",
    "                totais[filmes] += base[outro][filmes] * similaridade\n",
    "                somaSimilaridade.setdefault(filmes, 0)\n",
    "                somaSimilaridade[filmes] += similaridade\n",
    "    rankings = [(total/somaSimilaridade[filmes], filmes) for filmes, total in totais.items()]\n",
    "    rankings.sort()\n",
    "    rankings.reverse()\n",
    "    return rankings[0:30]"
   ]
  },
  {
   "cell_type": "code",
   "execution_count": 151,
   "metadata": {},
   "outputs": [
    {
     "data": {
      "text/plain": [
       "[(3.4999999999999996, 'Marcos'), (3.196200842319029, 'Leonardo')]"
      ]
     },
     "execution_count": 151,
     "metadata": {},
     "output_type": "execute_result"
    }
   ],
   "source": [
    "get_recomendacoes(avaliacoesFilme,'Star Wars')"
   ]
  },
  {
   "cell_type": "code",
   "execution_count": 152,
   "metadata": {},
   "outputs": [
    {
     "data": {
      "text/plain": [
       "[(3.457128694491423, 'Star Wars'),\n",
       " (2.778584003814924, 'Freddy x Jason'),\n",
       " (2.422482042361917, 'Star Trek')]"
      ]
     },
     "execution_count": 152,
     "metadata": {},
     "output_type": "execute_result"
    }
   ],
   "source": [
    "get_recomendacoes(avaliacoes, 'Leonardo')"
   ]
  },
  {
   "cell_type": "code",
   "execution_count": 153,
   "metadata": {},
   "outputs": [],
   "source": [
    "def carregaMovieLens(path = '/datascience/datasets/ml-100k'):\n",
    "    filmes = {}\n",
    "    for linha in open(path + '/u.item'):\n",
    "        (id, titulo) = linha.split('|')[0:2]\n",
    "        filmes[id] = titulo\n",
    "    #print(filmes)\n",
    "    base = {}\n",
    "    for linha in open(path +'/u.data'):\n",
    "        (usuario, id_filme, avaliacao, tempo) = linha.split('\\t')\n",
    "        base.setdefault(usuario, {})\n",
    "        base[usuario][filmes[id_filme]] = float(avaliacao)\n",
    "    return base"
   ]
  },
  {
   "cell_type": "code",
   "execution_count": 154,
   "metadata": {},
   "outputs": [],
   "source": [
    "movieLens = carregaMovieLens()"
   ]
  },
  {
   "cell_type": "code",
   "execution_count": 155,
   "metadata": {},
   "outputs": [
    {
     "data": {
      "text/plain": [
       "0.16139047779640892"
      ]
     },
     "execution_count": 155,
     "metadata": {},
     "output_type": "execute_result"
    }
   ],
   "source": [
    "euclidiana(movieLens, '1', '2')"
   ]
  },
  {
   "cell_type": "code",
   "execution_count": 166,
   "metadata": {},
   "outputs": [
    {
     "data": {
      "text/plain": [
       "[(1.0, '915'),\n",
       " (1.0, '866'),\n",
       " (1.0, '856'),\n",
       " (1.0, '850'),\n",
       " (1.0, '849'),\n",
       " (1.0, '837'),\n",
       " (1.0, '820'),\n",
       " (1.0, '818'),\n",
       " (1.0, '81'),\n",
       " (1.0, '809'),\n",
       " (1.0, '808'),\n",
       " (1.0, '801'),\n",
       " (1.0, '78'),\n",
       " (1.0, '770'),\n",
       " (1.0, '759'),\n",
       " (1.0, '75'),\n",
       " (1.0, '722'),\n",
       " (1.0, '71'),\n",
       " (1.0, '612'),\n",
       " (1.0, '61'),\n",
       " (1.0, '596'),\n",
       " (1.0, '584'),\n",
       " (1.0, '583'),\n",
       " (1.0, '580'),\n",
       " (1.0, '575'),\n",
       " (1.0, '572'),\n",
       " (1.0, '57'),\n",
       " (1.0, '547'),\n",
       " (1.0, '544'),\n",
       " (1.0, '53')]"
      ]
     },
     "execution_count": 166,
     "metadata": {},
     "output_type": "execute_result"
    }
   ],
   "source": [
    "get_similares(movieLens, '212')"
   ]
  },
  {
   "cell_type": "code",
   "execution_count": 168,
   "metadata": {},
   "outputs": [
    {
     "data": {
      "text/plain": [
       "[(5.000000000000001, 'Prefontaine (1997)'),\n",
       " (5.0, 'They Made Me a Criminal (1939)'),\n",
       " (5.0, 'Star Kid (1997)'),\n",
       " (5.0, \"Someone Else's America (1995)\"),\n",
       " (5.0, 'Santa with Muscles (1996)'),\n",
       " (5.0, 'Saint of Fort Washington, The (1993)'),\n",
       " (5.0, 'Marlene Dietrich: Shadow and Light (1996) '),\n",
       " (5.0, 'Great Day in Harlem, A (1994)'),\n",
       " (5.0, 'Entertaining Angels: The Dorothy Day Story (1996)'),\n",
       " (5.0, 'Aiqing wansui (1994)'),\n",
       " (4.70143111351963, 'Pather Panchali (1955)'),\n",
       " (4.658359213500126, 'Anna (1996)'),\n",
       " (4.612912210254463, 'Maya Lin: A Strong Clear Vision (1994)'),\n",
       " (4.600635868720634, \"Some Mother's Son (1996)\"),\n",
       " (4.5714869142316354, 'Innocents, The (1961)'),\n",
       " (4.554834005786829, 'Letter From Death Row, A (1998)'),\n",
       " (4.550504490486769, 'Close Shave, A (1995)'),\n",
       " (4.505165051203069, 'Bitter Sugar (Azucar Amargo) (1996)'),\n",
       " (4.499292522670629, 'Casablanca (1942)'),\n",
       " (4.490052025891638, 'Faust (1994)'),\n",
       " (4.455415386901684, 'Shawshank Redemption, The (1994)'),\n",
       " (4.453377903180689, \"Schindler's List (1993)\"),\n",
       " (4.441919908340798, 'Wallace & Gromit: The Best of Aardman Animation (1996)'),\n",
       " (4.412976846106254, 'Usual Suspects, The (1995)'),\n",
       " (4.407119531916204, '12 Angry Men (1957)'),\n",
       " (4.407016478392683, 'Third Man, The (1949)'),\n",
       " (4.400643520267341, 'Everest (1998)'),\n",
       " (4.383823296436675, 'Rear Window (1954)'),\n",
       " (4.373279125178946, 'World of Apu, The (Apur Sansar) (1959)'),\n",
       " (4.37206380680793, 'North by Northwest (1959)')]"
      ]
     },
     "execution_count": 168,
     "metadata": {},
     "output_type": "execute_result"
    }
   ],
   "source": [
    "get_recomendacoes(movieLens, '2')"
   ]
  },
  {
   "cell_type": "code",
   "execution_count": null,
   "metadata": {},
   "outputs": [],
   "source": []
  },
  {
   "cell_type": "code",
   "execution_count": null,
   "metadata": {},
   "outputs": [],
   "source": []
  }
 ],
 "metadata": {
  "kernelspec": {
   "display_name": "Python 3",
   "language": "python",
   "name": "python3"
  },
  "language_info": {
   "codemirror_mode": {
    "name": "ipython",
    "version": 3
   },
   "file_extension": ".py",
   "mimetype": "text/x-python",
   "name": "python",
   "nbconvert_exporter": "python",
   "pygments_lexer": "ipython3",
   "version": "3.7.1"
  }
 },
 "nbformat": 4,
 "nbformat_minor": 2
}
